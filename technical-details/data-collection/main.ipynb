{
 "cells": [
  {
   "cell_type": "markdown",
   "metadata": {},
   "source": [
    "---\n",
    "title: \"Data Collection\"\n",
    "format:\n",
    "    html: \n",
    "        code-fold: false\n",
    "---"
   ]
  },
  {
   "cell_type": "markdown",
   "metadata": {},
   "source": [
    "## Code \n"
   ]
  },
  {
   "cell_type": "code",
   "execution_count": 3,
   "metadata": {},
   "outputs": [],
   "source": [
    "# Load in necessary packages\n",
    "import pandas as pd\n",
    "import numpy as np"
   ]
  },
  {
   "cell_type": "markdown",
   "metadata": {},
   "source": [
    "The Data collection portion was relaively straightforward. I found Public use microdata (2023) from Consumer Expenditure Survey Data from the U.S. Bureau of Labor Statistics at https://www.bls.gov/cex/pumd_data.htm#csv, and downloaded the appropriate files for 2023.\n",
    "Then, let's import and view the 2023 Consumer Expenditure Survey Data."
   ]
  },
  {
   "cell_type": "code",
   "execution_count": 4,
   "metadata": {},
   "outputs": [],
   "source": [
    "#  Import data for income\n",
    "income_1_df = pd.read_csv(\"../../data/raw-data/itii232.csv\")\n",
    "income_2_df = pd.read_csv(\"../../data/raw-data/itii233.csv\")\n",
    "income_3_df = pd.read_csv(\"../../data/raw-data/itii234.csv\")\n",
    "income_4_df = pd.read_csv(\"../../data/raw-data/itii241.csv\")"
   ]
  },
  {
   "cell_type": "markdown",
   "metadata": {},
   "source": [
    "Each of the the Data Frames have 8 columns. Their shapes are displayed below. We find that the data frames have identical columns so they can be merged in the data collection stage, and we can filter for relevant columns."
   ]
  },
  {
   "cell_type": "code",
   "execution_count": 5,
   "metadata": {},
   "outputs": [
    {
     "name": "stdout",
     "output_type": "stream",
     "text": [
      "(330450, 8)\n",
      "Income dataset columns:  Index(['NEWID', 'REFMO', 'REFYR', 'UCC', 'PUBFLAG', 'VALUE_', 'IMPNUM',\n",
      "       'VALUE'],\n",
      "      dtype='object')\n",
      "(330840, 8)\n",
      "Income dataset columns:  Index(['NEWID', 'REFMO', 'REFYR', 'UCC', 'PUBFLAG', 'VALUE_', 'IMPNUM',\n",
      "       'VALUE'],\n",
      "      dtype='object')\n",
      "(322320, 8)\n",
      "Income dataset columns:  Index(['NEWID', 'REFMO', 'REFYR', 'UCC', 'PUBFLAG', 'VALUE_', 'IMPNUM',\n",
      "       'VALUE'],\n",
      "      dtype='object')\n",
      "(325200, 8)\n",
      "Income dataset columns:  Index(['NEWID', 'REFMO', 'REFYR', 'UCC', 'PUBFLAG', 'VALUE_', 'IMPNUM',\n",
      "       'VALUE'],\n",
      "      dtype='object')\n"
     ]
    }
   ],
   "source": [
    "print(income_1_df.shape)\n",
    "print(\"Income dataset columns: \", income_1_df.columns)\n",
    "print(income_2_df.shape)\n",
    "print(\"Income dataset columns: \", income_2_df.columns)\n",
    "print(income_3_df.shape)\n",
    "print(\"Income dataset columns: \", income_3_df.columns)\n",
    "print(income_4_df.shape)\n",
    "print(\"Income dataset columns: \", income_4_df.columns)"
   ]
  },
  {
   "cell_type": "markdown",
   "metadata": {},
   "source": [
    "There are two more types of datasets: memi and mtbi. memi files have characteristic data such as race, earning type, education and sex, while mtbi files detail individuals' annual expenses."
   ]
  },
  {
   "cell_type": "code",
   "execution_count": 6,
   "metadata": {},
   "outputs": [],
   "source": [
    "#  Import data for expenses\n",
    "expense_1_df = pd.read_csv(\"../../data/raw-data/mtbi232.csv\")\n",
    "expense_2_df = pd.read_csv(\"../../data/raw-data/mtbi233.csv\")\n",
    "expense_3_df = pd.read_csv(\"../../data/raw-data/mtbi234.csv\")\n",
    "expense_4_df = pd.read_csv(\"../../data/raw-data/mtbi241.csv\")"
   ]
  },
  {
   "cell_type": "code",
   "execution_count": 7,
   "metadata": {},
   "outputs": [
    {
     "name": "stdout",
     "output_type": "stream",
     "text": [
      "(377547, 13)\n",
      "Expense dataset columns:  Index(['NEWID', 'SEQNO', 'ALCNO', 'EXPNAME', 'COST_', 'REF_MO', 'REF_YR',\n",
      "       'RTYPE', 'GIFT', 'UCCSEQ', 'UCC', 'COST', 'PUBFLAG'],\n",
      "      dtype='object')\n",
      "(381866, 13)\n",
      "Expense dataset columns:  Index(['NEWID', 'SEQNO', 'ALCNO', 'EXPNAME', 'COST_', 'REF_MO', 'REF_YR',\n",
      "       'RTYPE', 'GIFT', 'UCCSEQ', 'UCC', 'COST', 'PUBFLAG'],\n",
      "      dtype='object')\n",
      "(371536, 13)\n",
      "Expense dataset columns:  Index(['NEWID', 'SEQNO', 'ALCNO', 'EXPNAME', 'COST_', 'REF_MO', 'REF_YR',\n",
      "       'RTYPE', 'GIFT', 'UCCSEQ', 'UCC', 'COST', 'PUBFLAG'],\n",
      "      dtype='object')\n",
      "(378199, 13)\n",
      "Expense dataset columns:  Index(['NEWID', 'SEQNO', 'ALCNO', 'EXPNAME', 'COST_', 'REF_MO', 'REF_YR',\n",
      "       'RTYPE', 'GIFT', 'UCCSEQ', 'UCC', 'COST', 'PUBFLAG'],\n",
      "      dtype='object')\n"
     ]
    }
   ],
   "source": [
    "print(expense_1_df.shape)\n",
    "print(\"Expense dataset columns: \", expense_1_df.columns)\n",
    "print(expense_2_df.shape)\n",
    "print(\"Expense dataset columns: \", expense_2_df.columns)\n",
    "print(expense_3_df.shape)\n",
    "print(\"Expense dataset columns: \", expense_3_df.columns)\n",
    "print(expense_4_df.shape)\n",
    "print(\"Expense dataset columns: \", expense_4_df.columns)"
   ]
  },
  {
   "cell_type": "code",
   "execution_count": 8,
   "metadata": {},
   "outputs": [],
   "source": [
    "#  Import data for individual characteristics\n",
    "characteristics_1_df = pd.read_csv(\"../../data/raw-data/memi232.csv\")\n",
    "characteristics_2_df = pd.read_csv(\"../../data/raw-data/memi233.csv\")\n",
    "characteristics_3_df = pd.read_csv(\"../../data/raw-data/memi234.csv\")\n",
    "characteristics_4_df = pd.read_csv(\"../../data/raw-data/memi241.csv\")"
   ]
  },
  {
   "cell_type": "code",
   "execution_count": 9,
   "metadata": {},
   "outputs": [
    {
     "name": "stdout",
     "output_type": "stream",
     "text": [
      "(11157, 177)\n",
      "Characteristics dataset columns:  Index(['NEWID', 'AGE', 'AGE_', 'ANGOVRTX', 'ANGO_RTX', 'ANPRVPNX', 'ANPR_PNX',\n",
      "       'ANRRDEDX', 'ANRR_EDX', 'ARM_FORC',\n",
      "       ...\n",
      "       'SOCS_RET', 'TAX__NIT', 'TU_CODE_', 'TU_D_NDT', 'WKSTATUS', 'VETERAN',\n",
      "       'VETERAN_', 'TAX_UNIT', 'TU_CODE', 'TU_DPNDT'],\n",
      "      dtype='object', length=177)\n",
      "(11256, 177)\n",
      "Characteristics dataset columns:  Index(['NEWID', 'AGE', 'AGE_', 'ANGOVRTX', 'ANGO_RTX', 'ANPRVPNX', 'ANPR_PNX',\n",
      "       'ANRRDEDX', 'ANRR_EDX', 'ARM_FORC',\n",
      "       ...\n",
      "       'SOCS_RET', 'TAX__NIT', 'TU_CODE_', 'TU_D_NDT', 'WKSTATUS', 'VETERAN',\n",
      "       'VETERAN_', 'TAX_UNIT', 'TU_CODE', 'TU_DPNDT'],\n",
      "      dtype='object', length=177)\n",
      "(10834, 177)\n",
      "Characteristics dataset columns:  Index(['NEWID', 'AGE', 'AGE_', 'ANGOVRTX', 'ANGO_RTX', 'ANPRVPNX', 'ANPR_PNX',\n",
      "       'ANRRDEDX', 'ANRR_EDX', 'ARM_FORC',\n",
      "       ...\n",
      "       'SOCS_RET', 'TAX__NIT', 'TU_CODE_', 'TU_D_NDT', 'WKSTATUS', 'VETERAN',\n",
      "       'VETERAN_', 'TAX_UNIT', 'TU_CODE', 'TU_DPNDT'],\n",
      "      dtype='object', length=177)\n",
      "(10883, 177)\n",
      "Characteristics dataset columns:  Index(['NEWID', 'AGE', 'AGE_', 'ANGOVRTX', 'ANGO_RTX', 'ANPRVPNX', 'ANPR_PNX',\n",
      "       'ANRRDEDX', 'ANRR_EDX', 'ARM_FORC',\n",
      "       ...\n",
      "       'SOCS_RET', 'TAX__NIT', 'TU_CODE_', 'TU_D_NDT', 'WKSTATUS', 'VETERAN',\n",
      "       'VETERAN_', 'TAX_UNIT', 'TU_CODE', 'TU_DPNDT'],\n",
      "      dtype='object', length=177)\n"
     ]
    }
   ],
   "source": [
    "print(characteristics_1_df.shape)\n",
    "print(\"Characteristics dataset columns: \", characteristics_1_df.columns)\n",
    "print(characteristics_2_df.shape)\n",
    "print(\"Characteristics dataset columns: \", characteristics_2_df.columns)\n",
    "print(characteristics_3_df.shape)\n",
    "print(\"Characteristics dataset columns: \", characteristics_3_df.columns)\n",
    "print(characteristics_4_df.shape)\n",
    "print(\"Characteristics dataset columns: \", characteristics_4_df.columns)"
   ]
  },
  {
   "cell_type": "markdown",
   "metadata": {},
   "source": [
    "As you can see, many of the column names are not easily interpretable so let's move onto data cleaning to better understand what the data files are really like!"
   ]
  }
 ],
 "metadata": {
  "kernelspec": {
   "display_name": "testenv",
   "language": "python",
   "name": "python3"
  },
  "language_info": {
   "codemirror_mode": {
    "name": "ipython",
    "version": 3
   },
   "file_extension": ".py",
   "mimetype": "text/x-python",
   "name": "python",
   "nbconvert_exporter": "python",
   "pygments_lexer": "ipython3",
   "version": "3.11.8"
  }
 },
 "nbformat": 4,
 "nbformat_minor": 2
}
