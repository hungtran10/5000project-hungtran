{
 "cells": [
  {
   "cell_type": "markdown",
   "metadata": {},
   "source": [
    "---\n",
    "title: \"Data Collection\"\n",
    "format:\n",
    "    html: \n",
    "        code-fold: false\n",
    "---"
   ]
  },
  {
   "cell_type": "markdown",
   "metadata": {},
   "source": [
    "The Data collection portion was relaively straightforward. I found Public use microdata (2023) from Consumer Expenditure Survey Data from the U.S. Bureau of Labor Statistics at this [link](https://www.bls.gov/cex/pumd_data.htm#csv), and downloaded the appropriate files for 2023.\n",
    "Then, let's import and view the 2023 Consumer Expenditure Survey Data."
   ]
  },
  {
   "cell_type": "markdown",
   "metadata": {},
   "source": [
    "## Code \n"
   ]
  },
  {
   "cell_type": "code",
   "execution_count": 2,
   "metadata": {},
   "outputs": [],
   "source": [
    "# Load in necessary packages\n",
    "import pandas as pd\n",
    "import numpy as np"
   ]
  },
  {
   "cell_type": "code",
   "execution_count": 3,
   "metadata": {},
   "outputs": [],
   "source": [
    "#  Import data for income\n",
    "income_1_df = pd.read_csv(\"../../data/raw-data/itii232.csv\")\n",
    "income_2_df = pd.read_csv(\"../../data/raw-data/itii233.csv\")\n",
    "income_3_df = pd.read_csv(\"../../data/raw-data/itii234.csv\")\n",
    "income_4_df = pd.read_csv(\"../../data/raw-data/itii241.csv\")"
   ]
  },
  {
   "cell_type": "markdown",
   "metadata": {},
   "source": [
    "Each of the the Data Frames have 8 columns. Their shapes are displayed below. We find that the data frames have identical columns so they can be merged in the data collection stage, and we can filter for relevant columns."
   ]
  },
  {
   "cell_type": "code",
   "execution_count": 4,
   "metadata": {},
   "outputs": [
    {
     "name": "stdout",
     "output_type": "stream",
     "text": [
      "(330450, 8)\n",
      "Income dataset columns:  Index(['NEWID', 'REFMO', 'REFYR', 'UCC', 'PUBFLAG', 'VALUE_', 'IMPNUM',\n",
      "       'VALUE'],\n",
      "      dtype='object')\n",
      "(330840, 8)\n",
      "Income dataset columns:  Index(['NEWID', 'REFMO', 'REFYR', 'UCC', 'PUBFLAG', 'VALUE_', 'IMPNUM',\n",
      "       'VALUE'],\n",
      "      dtype='object')\n",
      "(322320, 8)\n",
      "Income dataset columns:  Index(['NEWID', 'REFMO', 'REFYR', 'UCC', 'PUBFLAG', 'VALUE_', 'IMPNUM',\n",
      "       'VALUE'],\n",
      "      dtype='object')\n",
      "(325200, 8)\n",
      "Income dataset columns:  Index(['NEWID', 'REFMO', 'REFYR', 'UCC', 'PUBFLAG', 'VALUE_', 'IMPNUM',\n",
      "       'VALUE'],\n",
      "      dtype='object')\n"
     ]
    }
   ],
   "source": [
    "print(income_1_df.shape)\n",
    "print(\"Income dataset columns: \", income_1_df.columns)\n",
    "print(income_2_df.shape)\n",
    "print(\"Income dataset columns: \", income_2_df.columns)\n",
    "print(income_3_df.shape)\n",
    "print(\"Income dataset columns: \", income_3_df.columns)\n",
    "print(income_4_df.shape)\n",
    "print(\"Income dataset columns: \", income_4_df.columns)"
   ]
  },
  {
   "cell_type": "markdown",
   "metadata": {},
   "source": [
    "There are two more types of datasets: memi and mtbi. memi files have characteristic data such as race, earning type, education and sex, while mtbi files detail individuals' annual expenses."
   ]
  },
  {
   "cell_type": "code",
   "execution_count": 5,
   "metadata": {},
   "outputs": [],
   "source": [
    "#  Import data for expenses\n",
    "expense_1_df = pd.read_csv(\"../../data/raw-data/mtbi232.csv\")\n",
    "expense_2_df = pd.read_csv(\"../../data/raw-data/mtbi233.csv\")\n",
    "expense_3_df = pd.read_csv(\"../../data/raw-data/mtbi234.csv\")\n",
    "expense_4_df = pd.read_csv(\"../../data/raw-data/mtbi241.csv\")"
   ]
  },
  {
   "cell_type": "code",
   "execution_count": 6,
   "metadata": {},
   "outputs": [
    {
     "name": "stdout",
     "output_type": "stream",
     "text": [
      "(377547, 13)\n",
      "Expense dataset columns:  Index(['NEWID', 'SEQNO', 'ALCNO', 'EXPNAME', 'COST_', 'REF_MO', 'REF_YR',\n",
      "       'RTYPE', 'GIFT', 'UCCSEQ', 'UCC', 'COST', 'PUBFLAG'],\n",
      "      dtype='object')\n",
      "(381866, 13)\n",
      "Expense dataset columns:  Index(['NEWID', 'SEQNO', 'ALCNO', 'EXPNAME', 'COST_', 'REF_MO', 'REF_YR',\n",
      "       'RTYPE', 'GIFT', 'UCCSEQ', 'UCC', 'COST', 'PUBFLAG'],\n",
      "      dtype='object')\n",
      "(371536, 13)\n",
      "Expense dataset columns:  Index(['NEWID', 'SEQNO', 'ALCNO', 'EXPNAME', 'COST_', 'REF_MO', 'REF_YR',\n",
      "       'RTYPE', 'GIFT', 'UCCSEQ', 'UCC', 'COST', 'PUBFLAG'],\n",
      "      dtype='object')\n",
      "(378199, 13)\n",
      "Expense dataset columns:  Index(['NEWID', 'SEQNO', 'ALCNO', 'EXPNAME', 'COST_', 'REF_MO', 'REF_YR',\n",
      "       'RTYPE', 'GIFT', 'UCCSEQ', 'UCC', 'COST', 'PUBFLAG'],\n",
      "      dtype='object')\n"
     ]
    }
   ],
   "source": [
    "print(expense_1_df.shape)\n",
    "print(\"Expense dataset columns: \", expense_1_df.columns)\n",
    "print(expense_2_df.shape)\n",
    "print(\"Expense dataset columns: \", expense_2_df.columns)\n",
    "print(expense_3_df.shape)\n",
    "print(\"Expense dataset columns: \", expense_3_df.columns)\n",
    "print(expense_4_df.shape)\n",
    "print(\"Expense dataset columns: \", expense_4_df.columns)"
   ]
  },
  {
   "cell_type": "code",
   "execution_count": 7,
   "metadata": {},
   "outputs": [],
   "source": [
    "#  Import data for individual characteristics\n",
    "characteristics_1_df = pd.read_csv(\"../../data/raw-data/memi232.csv\")\n",
    "characteristics_2_df = pd.read_csv(\"../../data/raw-data/memi233.csv\")\n",
    "characteristics_3_df = pd.read_csv(\"../../data/raw-data/memi234.csv\")\n",
    "characteristics_4_df = pd.read_csv(\"../../data/raw-data/memi241.csv\")"
   ]
  },
  {
   "cell_type": "code",
   "execution_count": 8,
   "metadata": {},
   "outputs": [
    {
     "name": "stdout",
     "output_type": "stream",
     "text": [
      "(11157, 177)\n",
      "Characteristics dataset columns:  Index(['NEWID', 'AGE', 'AGE_', 'ANGOVRTX', 'ANGO_RTX', 'ANPRVPNX', 'ANPR_PNX',\n",
      "       'ANRRDEDX', 'ANRR_EDX', 'ARM_FORC',\n",
      "       ...\n",
      "       'SOCS_RET', 'TAX__NIT', 'TU_CODE_', 'TU_D_NDT', 'WKSTATUS', 'VETERAN',\n",
      "       'VETERAN_', 'TAX_UNIT', 'TU_CODE', 'TU_DPNDT'],\n",
      "      dtype='object', length=177)\n",
      "(11256, 177)\n",
      "Characteristics dataset columns:  Index(['NEWID', 'AGE', 'AGE_', 'ANGOVRTX', 'ANGO_RTX', 'ANPRVPNX', 'ANPR_PNX',\n",
      "       'ANRRDEDX', 'ANRR_EDX', 'ARM_FORC',\n",
      "       ...\n",
      "       'SOCS_RET', 'TAX__NIT', 'TU_CODE_', 'TU_D_NDT', 'WKSTATUS', 'VETERAN',\n",
      "       'VETERAN_', 'TAX_UNIT', 'TU_CODE', 'TU_DPNDT'],\n",
      "      dtype='object', length=177)\n",
      "(10834, 177)\n",
      "Characteristics dataset columns:  Index(['NEWID', 'AGE', 'AGE_', 'ANGOVRTX', 'ANGO_RTX', 'ANPRVPNX', 'ANPR_PNX',\n",
      "       'ANRRDEDX', 'ANRR_EDX', 'ARM_FORC',\n",
      "       ...\n",
      "       'SOCS_RET', 'TAX__NIT', 'TU_CODE_', 'TU_D_NDT', 'WKSTATUS', 'VETERAN',\n",
      "       'VETERAN_', 'TAX_UNIT', 'TU_CODE', 'TU_DPNDT'],\n",
      "      dtype='object', length=177)\n",
      "(10883, 177)\n",
      "Characteristics dataset columns:  Index(['NEWID', 'AGE', 'AGE_', 'ANGOVRTX', 'ANGO_RTX', 'ANPRVPNX', 'ANPR_PNX',\n",
      "       'ANRRDEDX', 'ANRR_EDX', 'ARM_FORC',\n",
      "       ...\n",
      "       'SOCS_RET', 'TAX__NIT', 'TU_CODE_', 'TU_D_NDT', 'WKSTATUS', 'VETERAN',\n",
      "       'VETERAN_', 'TAX_UNIT', 'TU_CODE', 'TU_DPNDT'],\n",
      "      dtype='object', length=177)\n"
     ]
    }
   ],
   "source": [
    "print(characteristics_1_df.shape)\n",
    "print(\"Characteristics dataset columns: \", characteristics_1_df.columns)\n",
    "print(characteristics_2_df.shape)\n",
    "print(\"Characteristics dataset columns: \", characteristics_2_df.columns)\n",
    "print(characteristics_3_df.shape)\n",
    "print(\"Characteristics dataset columns: \", characteristics_3_df.columns)\n",
    "print(characteristics_4_df.shape)\n",
    "print(\"Characteristics dataset columns: \", characteristics_4_df.columns)"
   ]
  },
  {
   "cell_type": "markdown",
   "metadata": {},
   "source": [
    "Let's briefly look at the online expenses data stored in the following files."
   ]
  },
  {
   "cell_type": "code",
   "execution_count": 9,
   "metadata": {},
   "outputs": [
    {
     "name": "stdout",
     "output_type": "stream",
     "text": [
      "(18885, 38)\n",
      "Online expenses dataset columns:  Index(['QYEAR', 'NEWID', 'SEQNO', 'ALCNO', 'REC_ORIG', 'MINAPPLY', 'MINA_PLY',\n",
      "       'GFTCMIN', 'GFTCMIN_', 'MIN_MO', 'MIN_MO_', 'MINPURX', 'MINPURX_',\n",
      "       'MINRENTX', 'MINR_NTX', 'MNAPPL1', 'MNAPPL1_', 'MNAPPL2', 'MNAPPL2_',\n",
      "       'MNAPPL3', 'MNAPPL3_', 'MNAPPL4', 'MNAPPL4_', 'MNAPPL5', 'MNAPPL5_',\n",
      "       'MNAPPL6', 'MNAPPL6_', 'MNAPPL7', 'MNAPPL7_', 'MNAPPL8', 'MNAPPL8_',\n",
      "       'MNAPPL9', 'MNAPPL9_', 'INSTLSCR', 'INST_SCR', 'INSTLLEX', 'INST_LEX',\n",
      "       'APBPURCH'],\n",
      "      dtype='object')\n",
      "(3578, 30)\n",
      "Online expenses dataset columns:  Index(['QYEAR', 'NEWID', 'SEQNO', 'ALCNO', 'REC_ORIG', 'APPRPRYB', 'APPR_RYB',\n",
      "       'SRVCMOB', 'SRVCMOB_', 'REPAIRX', 'REPAIRX_', 'APPRPB1', 'APPRPB1_',\n",
      "       'APPRPB2', 'APPRPB2_', 'APPRPB3', 'APPRPB3_', 'APPRPB4', 'APPRPB4_',\n",
      "       'APPRPB5', 'APPRPB5_', 'APPRPB6', 'APPRPB6_', 'APPRPB7', 'APPRPB7_',\n",
      "       'APPRPB8', 'APPRPB8_', 'APPRPB9', 'EQBPURCH', 'APPRPB9_'],\n",
      "      dtype='object')\n",
      "(31165, 32)\n",
      "Online expenses dataset columns:  Index(['QYEAR', 'NEWID', 'SEQNO', 'ALCNO', 'REC_ORIG', 'MISCCODE', 'MISC_ODE',\n",
      "       'MISCMO', 'MISCMO_', 'MISCGFTC', 'MISC_FTC', 'MISCEXPX', 'MISC_XPX',\n",
      "       'MISCDE1', 'MISCDE1_', 'MISCDE2', 'MISCDE2_', 'MISCDE3', 'MISCDE3_',\n",
      "       'MISCDE4', 'MISCDE4_', 'MISCDE5', 'MISCDE5_', 'MISCDE6', 'MISCDE6_',\n",
      "       'MISCDE7', 'MISCDE7_', 'MISCDE8', 'MISCDE8_', 'MISCDE9', 'MISPURCH',\n",
      "       'MISCDE9_'],\n",
      "      dtype='object')\n",
      "(34912, 89)\n",
      "Online expenses dataset columns:  Index(['QYEAR', 'NEWID', 'SEQNO', 'ALCNO', 'REC_ORIG', 'VEHICYB', 'VEHICYB_',\n",
      "       'VEHICYR', 'VEHICYR_', 'VEHBSNZ', 'VEHBSNZ_', 'VEHNEWU', 'VEHNEWU_',\n",
      "       'VEHGFTC', 'VEHGFTC_', 'VEHPURMO', 'VEHP_RMO', 'VEHPURYR', 'VEHP_RYR',\n",
      "       'VFINSTAT', 'VFIN_TAT', 'TRADEX', 'TRADEX_', 'NETPURX', 'NETPURX_',\n",
      "       'DNPAYMTX', 'DNPA_MTX', 'PRINCIPX', 'PRIN_IPX', 'VEHQPMT', 'VEHQPMT_',\n",
      "       'PMT1MO', 'PMT1MO_', 'PMT1YR', 'PMT1YR_', 'PAYMENTX', 'PAYM_NTX',\n",
      "       'QINTRSTZ', 'QINT_STZ', 'QLOANM1Q', 'QLOA_M1Q', 'QBALNM1X', 'QBAL_M1X',\n",
      "       'QVINTM1X', 'QVIN_M1X', 'QVPRIM1X', 'QVPR_M1X', 'QLOANM2Q', 'QLOA_M2Q',\n",
      "       'QBALNM2X', 'QBAL_M2X', 'QVINTM2X', 'QVIN_M2X', 'QVPRIM2X', 'QVPR_M2X',\n",
      "       'QLOANM3Q', 'QLOA_M3Q', 'QBALNM3X', 'QBAL_M3X', 'QVINTM3X', 'QVIN_M3X',\n",
      "       'QVPRIM3X', 'QVPR_M3X', 'QTRADEX', 'QTRADEX_', 'QREIMBRZ', 'QREI_BRZ',\n",
      "       'QADITR1X', 'QADI_R1X', 'QADITR2X', 'QADI_R2X', 'QADITR3X', 'QADI_R3X',\n",
      "       'QDNPYMTX', 'QDNP_MTX', 'VEHEQTLN', 'VEHE_TLN', 'VEHICIB', 'VEHICIB_',\n",
      "       'MAKE', 'MAKE_', 'OVBPURCH', 'VFINANCE', 'FUELTYPE', 'FUEL_YPE',\n",
      "       'VPURINDV', 'VPUR_NDV', 'VINTRATE', 'VINT_ATE'],\n",
      "      dtype='object')\n"
     ]
    },
    {
     "name": "stderr",
     "output_type": "stream",
     "text": [
      "/var/folders/sm/dt8s0j7j0glg1jfrlpndm0lw0000gn/T/ipykernel_51294/645780557.py:2: DtypeWarning: Columns (4) have mixed types. Specify dtype option on import or set low_memory=False.\n",
      "  specific_expense_df1 = pd.read_csv(\"../../data/raw-data/apb23.csv\")\n"
     ]
    }
   ],
   "source": [
    "# Import csv files for online purchases\n",
    "specific_expense_df1 = pd.read_csv(\"../../data/raw-data/apb23.csv\")\n",
    "specific_expense_df2 = pd.read_csv(\"../../data/raw-data/eqb23.csv\")\n",
    "specific_expense_df3 = pd.read_csv(\"../../data/raw-data/mis23.csv\")\n",
    "specific_expense_df4 = pd.read_csv(\"../../data/raw-data/ovb23.csv\")\n",
    "\n",
    "print(specific_expense_df1.shape)\n",
    "print(\"Online expenses dataset columns: \", specific_expense_df1.columns)\n",
    "print(specific_expense_df2.shape)\n",
    "print(\"Online expenses dataset columns: \", specific_expense_df2.columns)\n",
    "print(specific_expense_df3.shape)\n",
    "print(\"Online expenses dataset columns: \", specific_expense_df3.columns)\n",
    "print(specific_expense_df4.shape)\n",
    "print(\"Online expenses dataset columns: \", specific_expense_df4.columns)"
   ]
  },
  {
   "cell_type": "markdown",
   "metadata": {},
   "source": [
    "As you can see, many of the column names across the three types of datasets are not easily interpretable so let's move onto data cleaning to better understand what the data files are really like!"
   ]
  }
 ],
 "metadata": {
  "kernelspec": {
   "display_name": "testenv",
   "language": "python",
   "name": "python3"
  },
  "language_info": {
   "codemirror_mode": {
    "name": "ipython",
    "version": 3
   },
   "file_extension": ".py",
   "mimetype": "text/x-python",
   "name": "python",
   "nbconvert_exporter": "python",
   "pygments_lexer": "ipython3",
   "version": "3.11.8"
  }
 },
 "nbformat": 4,
 "nbformat_minor": 2
}
